{
 "cells": [
  {
   "cell_type": "code",
   "execution_count": null,
   "metadata": {},
   "outputs": [
    {
     "name": "stdout",
     "output_type": "stream",
     "text": [
      " * Serving Flask app \"__main__\" (lazy loading)\n",
      " * Environment: production\n",
      "   WARNING: This is a development server. Do not use it in a production deployment.\n",
      "   Use a production WSGI server instead.\n",
      " * Debug mode: off\n"
     ]
    },
    {
     "name": "stderr",
     "output_type": "stream",
     "text": [
      " * Running on http://127.0.0.1:5000/ (Press CTRL+C to quit)\n",
      "127.0.0.1 - - [27/Mar/2020 22:45:45] \"\u001b[37mGET /api/v1/resources/stu?id=1/delete HTTP/1.1\u001b[0m\" 200 -\n",
      "127.0.0.1 - - [27/Mar/2020 22:45:45] \"\u001b[37mGET /api/v1/resources/stu?id=1/delete HTTP/1.1\u001b[0m\" 200 -\n",
      "127.0.0.1 - - [27/Mar/2020 22:45:46] \"\u001b[37mGET /api/v1/resources/stu?id=1/delete HTTP/1.1\u001b[0m\" 200 -\n",
      "127.0.0.1 - - [27/Mar/2020 22:45:46] \"\u001b[37mGET /api/v1/resources/stu?id=1/delete HTTP/1.1\u001b[0m\" 200 -\n"
     ]
    }
   ],
   "source": [
    "import flask\n",
    "from flask import request, jsonify\n",
    "import sqlite3\n",
    "\n",
    "app = flask.Flask(__name__)\n",
    "#app.config[\"DEBUG\"] = True\n",
    "\n",
    "def dict_factory(cursor, row):\n",
    "    d = {}\n",
    "    for idx, col in enumerate(cursor.description):\n",
    "        d[col[0]] = row[idx]\n",
    "    return d\n",
    "\n",
    "\n",
    "@app.route('/', methods=['GET','POST'])\n",
    "def home():\n",
    "    return '''<h1>student record</h1>'''\n",
    "\n",
    "\n",
    "@app.route('/api/v1/resources/stu/all', methods=['GET','POST'])\n",
    "def api_all():\n",
    "    conn = sqlite3.connect('test.db')\n",
    "    conn.row_factory = dict_factory\n",
    "    cur = conn.cursor()\n",
    "    all_stu = cur.execute('SELECT * FROM student;').fetchall()\n",
    "\n",
    "    return jsonify(all_stu)\n",
    "\n",
    "\n",
    "\n",
    "@app.errorhandler(404)\n",
    "def page_not_found(e):\n",
    "    return \"<h1>404</h1><p>The resource could not be found.</p>\", 404\n",
    "\n",
    "\n",
    "@app.route('/api/v1/resources/stu', methods=['GET','POST'])\n",
    "def api_filter():\n",
    "    query_parameters = request.args\n",
    "\n",
    "    id = query_parameters.get('id')\n",
    "    \n",
    "\n",
    "    query = \"SELECT * FROM student WHERE\"\n",
    "    to_filter = []\n",
    "\n",
    "    if id:\n",
    "        query += ' id=? AND'\n",
    "        to_filter.append(id)\n",
    "   \n",
    "    if not id:\n",
    "        return page_not_found(404)\n",
    "\n",
    "    query = query[:-4] + ';'\n",
    "\n",
    "    conn = sqlite3.connect('test.db')\n",
    "    conn.row_factory = dict_factory\n",
    "    cur = conn.cursor()\n",
    "\n",
    "    results = cur.execute(query, to_filter).fetchall()\n",
    "\n",
    "    return jsonify(results)\n",
    "\n",
    "@app.route('/api/v1/resources/stu/delete', methods=['GET','POST'])\n",
    "def api_delete():\n",
    "    query_parameters = request.args\n",
    "\n",
    "    id = query_parameters.get('id')\n",
    "    \n",
    "\n",
    "    query = \"SELECT * FROM student WHERE\"\n",
    "    to_filter = []\n",
    "\n",
    "    if id:\n",
    "        query += ' id=? AND'\n",
    "        to_filter.append(id)\n",
    "   \n",
    "    if not id:\n",
    "        return page_not_found(404)\n",
    "\n",
    "    query = query[:-4] + ';'\n",
    "\n",
    "    conn = sqlite3.connect('test.db')\n",
    "    conn.row_factory = dict_factory\n",
    "    cur = conn.cursor()\n",
    "\n",
    "    results = cur.execute('DELETE FROM post WHERE id = ?')\n",
    "    cur.commit()\n",
    "\n",
    "    return jsonify(results)\n",
    "app.run()\n"
   ]
  },
  {
   "cell_type": "code",
   "execution_count": null,
   "metadata": {},
   "outputs": [],
   "source": [
    "\n"
   ]
  }
 ],
 "metadata": {
  "kernelspec": {
   "display_name": "Python 3",
   "language": "python",
   "name": "python3"
  },
  "language_info": {
   "codemirror_mode": {
    "name": "ipython",
    "version": 3
   },
   "file_extension": ".py",
   "mimetype": "text/x-python",
   "name": "python",
   "nbconvert_exporter": "python",
   "pygments_lexer": "ipython3",
   "version": "3.7.6"
  }
 },
 "nbformat": 4,
 "nbformat_minor": 4
}
